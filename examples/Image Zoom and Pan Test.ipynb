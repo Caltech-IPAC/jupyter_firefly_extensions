{
 "cells": [
  {
   "cell_type": "markdown",
   "metadata": {},
   "source": [
    "For this test, we will place two widgets side-by-side."
   ]
  },
  {
   "cell_type": "code",
   "execution_count": null,
   "metadata": {
    "collapsed": true
   },
   "outputs": [],
   "source": [
    "from ipywidgets import Layout"
   ]
  },
  {
   "cell_type": "code",
   "execution_count": null,
   "metadata": {
    "collapsed": true
   },
   "outputs": [],
   "source": [
    "from jupyter_firefly_extensions import ImageViewer"
   ]
  },
  {
   "cell_type": "markdown",
   "metadata": {},
   "source": [
    "Currently the image viewer queries a service for 2MASS images by default."
   ]
  },
  {
   "cell_type": "code",
   "execution_count": null,
   "metadata": {
    "collapsed": true
   },
   "outputs": [],
   "source": [
    "iv = ImageViewer(WorldPt='283.396163;+33.029175;EQ_J2000', GridOn=False,\n",
    "                 layout=Layout(width='400px', height='400px'))\n",
    "iv"
   ]
  },
  {
   "cell_type": "markdown",
   "metadata": {},
   "source": [
    "If a path or URL is given to ImageViewer, it will read in the specified image instead of querying an archive."
   ]
  },
  {
   "cell_type": "code",
   "execution_count": null,
   "metadata": {
    "collapsed": true
   },
   "outputs": [],
   "source": [
    "mypath = ('http://web.ipac.caltech.edu/staff/roby/demo/wise-m51-band4.fits')\n",
    "fv = ImageViewer(url=mypath, gridOn=False,\n",
    "                 layout=Layout(width='400px', height='400px'))\n",
    "fv"
   ]
  },
  {
   "cell_type": "code",
   "execution_count": null,
   "metadata": {
    "collapsed": true
   },
   "outputs": [],
   "source": [
    "from ipywidgets import HBox, VBox, IntSlider, FloatSlider, jslink"
   ]
  },
  {
   "cell_type": "code",
   "execution_count": null,
   "metadata": {
    "collapsed": true
   },
   "outputs": [],
   "source": [
    "izoom1 = FloatSlider(\n",
    "    value=1.0,\n",
    "    min=0.1,\n",
    "    max=10.0,\n",
    "    step=0.1,\n",
    "    description='Left Zoom',\n",
    "    disabled=False,\n",
    "    continuous_update=False,\n",
    "    orientation='horizontal',\n",
    "    readout=True,\n",
    "    readout_format='.1f',\n",
    "    slider_color='white'\n",
    ")"
   ]
  },
  {
   "cell_type": "code",
   "execution_count": null,
   "metadata": {
    "collapsed": true
   },
   "outputs": [],
   "source": [
    "ix1 = IntSlider(\n",
    "    value=10,\n",
    "    min=0,\n",
    "    max=400,\n",
    "    step=1,\n",
    "    description='Left x_pan',\n",
    "    disabled=False,\n",
    "    continuous_update=False,\n",
    "    orientation='horizontal',\n",
    "    readout=True,\n",
    "    readout_format='d',\n",
    "    slider_color='white'\n",
    ")"
   ]
  },
  {
   "cell_type": "code",
   "execution_count": null,
   "metadata": {
    "collapsed": true
   },
   "outputs": [],
   "source": [
    "iy1 = IntSlider(\n",
    "    value=20,\n",
    "    min=0,\n",
    "    max=400,\n",
    "    step=1,\n",
    "    description='Left y_pan',\n",
    "    disabled=False,\n",
    "    continuous_update=False,\n",
    "    orientation='horizontal',\n",
    "    readout=True,\n",
    "    readout_format='d',\n",
    "    slider_color='white'\n",
    ")"
   ]
  },
  {
   "cell_type": "code",
   "execution_count": null,
   "metadata": {
    "collapsed": true
   },
   "outputs": [],
   "source": [
    "izoom2 = FloatSlider(\n",
    "    value=1.0,\n",
    "    min=0.1,\n",
    "    max=10.0,\n",
    "    step=0.1,\n",
    "    description='Right Zoom',\n",
    "    disabled=False,\n",
    "    continuous_update=False,\n",
    "    orientation='horizontal',\n",
    "    readout=True,\n",
    "    readout_format='.1f',\n",
    "    slider_color='white'\n",
    ")"
   ]
  },
  {
   "cell_type": "code",
   "execution_count": null,
   "metadata": {
    "collapsed": true
   },
   "outputs": [],
   "source": [
    "ix2 = IntSlider(\n",
    "    value=10,\n",
    "    min=0,\n",
    "    max=400,\n",
    "    step=1,\n",
    "    description='Right x_pan',\n",
    "    disabled=False,\n",
    "    continuous_update=False,\n",
    "    orientation='horizontal',\n",
    "    readout=True,\n",
    "    readout_format='d',\n",
    "    slider_color='white'\n",
    ")"
   ]
  },
  {
   "cell_type": "code",
   "execution_count": null,
   "metadata": {
    "collapsed": true
   },
   "outputs": [],
   "source": [
    "iy2 = IntSlider(\n",
    "    value=20,\n",
    "    min=0,\n",
    "    max=400,\n",
    "    step=1,\n",
    "    description='Right y_pan',\n",
    "    disabled=False,\n",
    "    continuous_update=False,\n",
    "    orientation='horizontal',\n",
    "    readout=True,\n",
    "    readout_format='d',\n",
    "    slider_color='white'\n",
    ")"
   ]
  },
  {
   "cell_type": "code",
   "execution_count": null,
   "metadata": {
    "collapsed": true
   },
   "outputs": [],
   "source": [
    "left_link_zoom = jslink((izoom1, 'value'), (iv, 'zoom'))\n",
    "left_link_xpan = jslink((ix1, 'value'), (iv, 'x_pan'))\n",
    "left_link_ypan = jslink((iy1, 'value'), (iv, 'y_pan'))\n",
    "right_link_zoom = jslink((izoom2, 'value'), (fv, 'zoom'))\n",
    "right_link_xpan = jslink((ix2, 'value'), (fv, 'x_pan'))\n",
    "right_link_ypan = jslink((iy2, 'value'), (fv, 'y_pan'))\n",
    "both_link_zoom = jslink((izoom1, 'value'), (izoom2, 'value'))\n",
    "both_link_xpan = jslink((ix1, 'value'), (ix2, 'value'))\n",
    "both_link_ypan = jslink((iy1, 'value'), (iy2, 'value'))"
   ]
  },
  {
   "cell_type": "markdown",
   "metadata": {},
   "source": [
    "Activate \"Lock by click\" in the image toolbar (with cursor inside an image widget) to pan to a position by clicking on that point."
   ]
  },
  {
   "cell_type": "code",
   "execution_count": null,
   "metadata": {
    "collapsed": true
   },
   "outputs": [],
   "source": [
    "HBox([VBox([izoom1,ix1,iy1,iv]),VBox([izoom2,ix2,iy2,fv])])"
   ]
  },
  {
   "cell_type": "markdown",
   "metadata": {},
   "source": [
    "Programmatically change the zoom"
   ]
  },
  {
   "cell_type": "code",
   "execution_count": null,
   "metadata": {
    "collapsed": true
   },
   "outputs": [],
   "source": [
    "iv.zoom = 4.0"
   ]
  },
  {
   "cell_type": "code",
   "execution_count": null,
   "metadata": {
    "collapsed": true
   },
   "outputs": [],
   "source": [
    "iv.zoom"
   ]
  },
  {
   "cell_type": "code",
   "execution_count": null,
   "metadata": {
    "collapsed": true
   },
   "outputs": [],
   "source": [
    "fv.zoom"
   ]
  },
  {
   "cell_type": "code",
   "execution_count": null,
   "metadata": {
    "collapsed": true
   },
   "outputs": [],
   "source": []
  }
 ],
 "metadata": {
  "anaconda-cloud": {},
  "kernelspec": {
   "display_name": "Python 3",
   "language": "python",
   "name": "python3"
  },
  "language_info": {
   "codemirror_mode": {
    "name": "ipython",
    "version": 3
   },
   "file_extension": ".py",
   "mimetype": "text/x-python",
   "name": "python",
   "nbconvert_exporter": "python",
   "pygments_lexer": "ipython3",
   "version": "3.6.7"
  }
 },
 "nbformat": 4,
 "nbformat_minor": 2
}
